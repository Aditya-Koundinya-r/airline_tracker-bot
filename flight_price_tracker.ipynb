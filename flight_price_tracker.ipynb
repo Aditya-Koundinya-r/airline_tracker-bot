{
 "cells": [
  {
   "cell_type": "code",
   "execution_count": 2,
   "id": "48a25308",
   "metadata": {},
   "outputs": [
    {
     "name": "stdout",
     "output_type": "stream",
     "text": [
      "Requirement already satisfied: selenium in c:\\users\\vc\\anaconda3\\lib\\site-packages (4.1.0)\n",
      "Requirement already satisfied: urllib3[secure]~=1.26 in c:\\users\\vc\\anaconda3\\lib\\site-packages (from selenium) (1.26.7)\n",
      "Requirement already satisfied: trio-websocket~=0.9 in c:\\users\\vc\\anaconda3\\lib\\site-packages (from selenium) (0.9.2)\n",
      "Requirement already satisfied: trio~=0.17 in c:\\users\\vc\\anaconda3\\lib\\site-packages (from selenium) (0.20.0)\n",
      "Requirement already satisfied: idna in c:\\users\\vc\\anaconda3\\lib\\site-packages (from trio~=0.17->selenium) (3.2)\n",
      "Requirement already satisfied: attrs>=19.2.0 in c:\\users\\vc\\anaconda3\\lib\\site-packages (from trio~=0.17->selenium) (21.2.0)\n",
      "Requirement already satisfied: async-generator>=1.9 in c:\\users\\vc\\anaconda3\\lib\\site-packages (from trio~=0.17->selenium) (1.10)\n",
      "Requirement already satisfied: sortedcontainers in c:\\users\\vc\\anaconda3\\lib\\site-packages (from trio~=0.17->selenium) (2.4.0)\n",
      "Requirement already satisfied: outcome in c:\\users\\vc\\anaconda3\\lib\\site-packages (from trio~=0.17->selenium) (1.1.0)\n",
      "Requirement already satisfied: sniffio in c:\\users\\vc\\anaconda3\\lib\\site-packages (from trio~=0.17->selenium) (1.2.0)\n",
      "Requirement already satisfied: cffi>=1.14 in c:\\users\\vc\\anaconda3\\lib\\site-packages (from trio~=0.17->selenium) (1.14.6)\n",
      "Requirement already satisfied: pycparser in c:\\users\\vc\\anaconda3\\lib\\site-packages (from cffi>=1.14->trio~=0.17->selenium) (2.20)\n",
      "Requirement already satisfied: wsproto>=0.14 in c:\\users\\vc\\anaconda3\\lib\\site-packages (from trio-websocket~=0.9->selenium) (1.0.0)\n",
      "Requirement already satisfied: pyOpenSSL>=0.14 in c:\\users\\vc\\anaconda3\\lib\\site-packages (from urllib3[secure]~=1.26->selenium) (21.0.0)\n",
      "Requirement already satisfied: cryptography>=1.3.4 in c:\\users\\vc\\anaconda3\\lib\\site-packages (from urllib3[secure]~=1.26->selenium) (3.4.8)\n",
      "Requirement already satisfied: certifi in c:\\users\\vc\\anaconda3\\lib\\site-packages (from urllib3[secure]~=1.26->selenium) (2021.10.8)\n",
      "Requirement already satisfied: six>=1.5.2 in c:\\users\\vc\\anaconda3\\lib\\site-packages (from pyOpenSSL>=0.14->urllib3[secure]~=1.26->selenium) (1.16.0)\n",
      "Requirement already satisfied: h11<1,>=0.9.0 in c:\\users\\vc\\anaconda3\\lib\\site-packages (from wsproto>=0.14->trio-websocket~=0.9->selenium) (0.13.0)\n"
     ]
    }
   ],
   "source": [
    "!pip install  selenium"
   ]
  },
  {
   "cell_type": "code",
   "execution_count": 3,
   "id": "e8bc7dfe",
   "metadata": {},
   "outputs": [],
   "source": [
    "from selenium import webdriver\n",
    "from selenium.webdriver.common.by import By\n",
    "from selenium.webdriver.common.keys import Keys\n",
    "import pandas as pd\n",
    "import time\n",
    "import datetime"
   ]
  },
  {
   "cell_type": "code",
   "execution_count": 4,
   "id": "7c9e4af5",
   "metadata": {},
   "outputs": [],
   "source": [
    "import smtplib\n",
    "from email.mime.multipart import MIMEMultipart"
   ]
  },
  {
   "cell_type": "code",
   "execution_count": 17,
   "id": "2296a613",
   "metadata": {},
   "outputs": [],
   "source": [
    "#chromedriver_path = 'https://www.expedia.co.in'\n",
    "chromedriver_path = 'C:\\chromedriver.exe'"
   ]
  },
  {
   "cell_type": "code",
   "execution_count": 18,
   "id": "2c327a7d",
   "metadata": {},
   "outputs": [
    {
     "name": "stderr",
     "output_type": "stream",
     "text": [
      "C:\\Users\\VC\\AppData\\Local\\Temp/ipykernel_10924/552846910.py:1: DeprecationWarning: executable_path has been deprecated, please pass in a Service object\n",
      "  driver = webdriver.Chrome(executable_path=chromedriver_path)\n"
     ]
    }
   ],
   "source": [
    "\n",
    "driver = webdriver.Chrome(executable_path=chromedriver_path)"
   ]
  },
  {
   "cell_type": "code",
   "execution_count": 19,
   "id": "579dd8a1",
   "metadata": {},
   "outputs": [],
   "source": [
    "return_ticket = \"//label[@id='flight-type-roundtrip-label-hp-flight']\"\n",
    "one_way_ticket = \"//label[@id='flight-type-one-way-label-hp-flight']\"\n",
    "multi_ticket = \"//label[@id='flight-type-multi-dest-label-hp-flight']\""
   ]
  },
  {
   "cell_type": "code",
   "execution_count": 20,
   "id": "abf8d378",
   "metadata": {},
   "outputs": [],
   "source": [
    "def ticket_chooser(ticket):\n",
    "\n",
    "    try:\n",
    "        ticket_type = browser.find_element_by_xpath(ticket)\n",
    "        ticket_type.click()\n",
    "    except Exception as e:\n",
    "        pass"
   ]
  },
  {
   "cell_type": "code",
   "execution_count": 21,
   "id": "ae1fd188",
   "metadata": {},
   "outputs": [],
   "source": [
    "def dep_country_chooser(dep_country):\n",
    "    fly_from = browser.find_element_by_xpath(\"//input[@id='flight-origin-hp-flight']\")\n",
    "    time.sleep(1)\n",
    "    fly_from.clear()\n",
    "    time.sleep(1.5)\n",
    "    fly_from.send_keys('  ' + dep_country)\n",
    "    time.sleep(1.5)\n",
    "    first_item = browser.find_element_by_xpath(\"//a[@id='aria-option-0']\")\n",
    "    time.sleep(1.5)\n",
    "    first_item.click()"
   ]
  },
  {
   "cell_type": "code",
   "execution_count": 22,
   "id": "d92abbe7",
   "metadata": {},
   "outputs": [],
   "source": [
    "def arrival_country_chooser(arrival_country):\n",
    "    fly_to = browser.find_element_by_xpath(\"//input[@id='flight-destination-hp-flight']\")\n",
    "    time.sleep(1)\n",
    "    fly_to.clear()\n",
    "    time.sleep(1.5)\n",
    "    fly_to.send_keys('  ' + arrival_country)\n",
    "    time.sleep(1.5)\n",
    "    first_item = browser.find_element_by_xpath(\"//a[@id='aria-option-0']\")\n",
    "    time.sleep(1.5)\n",
    "    first_item.click()"
   ]
  },
  {
   "cell_type": "code",
   "execution_count": 23,
   "id": "c37a9416",
   "metadata": {},
   "outputs": [],
   "source": [
    "def dep_date_chooser(month, day, year):\n",
    "\n",
    "    dep_date_button = browser.find_element_by_xpath(\"//input[@id='flight-departing-hp-flight']\")\n",
    "    dep_date_button.clear()\n",
    "    dep_date_button.send_keys(month + '/' + day + '/' + year)"
   ]
  },
  {
   "cell_type": "code",
   "execution_count": 24,
   "id": "cacfc63d",
   "metadata": {},
   "outputs": [],
   "source": [
    "def return_date_chooser(month, day, year):\n",
    "    return_date_button = browser.find_element_by_xpath(\"//input[@id='flight-returning-hp-flight']\")\n",
    "\n",
    "    for i in range(11):\n",
    "        return_date_button.send_keys(Keys.BACKSPACE)\n",
    "    return_date_button.send_keys(month + '/' + day + '/' + year)"
   ]
  },
  {
   "cell_type": "code",
   "execution_count": 25,
   "id": "6e512ea2",
   "metadata": {},
   "outputs": [],
   "source": [
    "def search():\n",
    "    search = browser.find_element_by_xpath(\"//button[@class='btn-primary btn-action gcw-submit']\")\n",
    "    search.click()\n",
    "    time.sleep(15)\n",
    "    print('Results ready!')"
   ]
  },
  {
   "cell_type": "code",
   "execution_count": null,
   "id": "1adeb6d5",
   "metadata": {},
   "outputs": [],
   "source": []
  }
 ],
 "metadata": {
  "kernelspec": {
   "display_name": "Python 3 (ipykernel)",
   "language": "python",
   "name": "python3"
  },
  "language_info": {
   "codemirror_mode": {
    "name": "ipython",
    "version": 3
   },
   "file_extension": ".py",
   "mimetype": "text/x-python",
   "name": "python",
   "nbconvert_exporter": "python",
   "pygments_lexer": "ipython3",
   "version": "3.9.7"
  }
 },
 "nbformat": 4,
 "nbformat_minor": 5
}
